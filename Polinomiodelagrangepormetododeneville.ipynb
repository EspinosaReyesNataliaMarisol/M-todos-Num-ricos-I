{
  "nbformat": 4,
  "nbformat_minor": 0,
  "metadata": {
    "colab": {
      "provenance": [],
      "authorship_tag": "ABX9TyNkQto1oMmvwoEN0QfmkyP5",
      "include_colab_link": true
    },
    "kernelspec": {
      "name": "python3",
      "display_name": "Python 3"
    },
    "language_info": {
      "name": "python"
    }
  },
  "cells": [
    {
      "cell_type": "markdown",
      "metadata": {
        "id": "view-in-github",
        "colab_type": "text"
      },
      "source": [
        "<a href=\"https://colab.research.google.com/github/EspinosaReyesNataliaMarisol/M-todos-Num-ricos-I/blob/main/Polinomiodelagrangepormetododeneville.ipynb\" target=\"_parent\"><img src=\"https://colab.research.google.com/assets/colab-badge.svg\" alt=\"Open In Colab\"/></a>"
      ]
    },
    {
      "cell_type": "markdown",
      "source": [
        "#Polinomio de Lagrange por el método de Neville\n",
        "##Alumna: Espinosa Reyes Natalia Marisol\n"
      ],
      "metadata": {
        "id": "zYRN_DEEeP8h"
      }
    },
    {
      "cell_type": "code",
      "execution_count": 73,
      "metadata": {
        "colab": {
          "base_uri": "https://localhost:8080/"
        },
        "id": "Ezcld7rzdvSv",
        "outputId": "9c66bba3-df6c-4524-851b-c0ff184efd41"
      },
      "outputs": [
        {
          "output_type": "stream",
          "name": "stdout",
          "text": [
            "El valor aproximado es P(1.5) = 0.51182\n",
            "Tabla de neville:\n",
            "[0.7651977, 0, 0, 0, 0]\n",
            "[0.620086, 0.5233449, 0, 0, 0]\n",
            "[0.4554022, 0.5102968, 0.5124715, 0, 0]\n",
            "[0.2818186, 0.5132634, 0.5112857, 0.5118127, 0]\n",
            "[0.1103623, 0.510427, 0.5137361, 0.5118302, 0.51182]\n"
          ]
        }
      ],
      "source": [
        "def neville(x, xi, fi):\n",
        "    #define los numeros de puntos o longitud del arreglo\n",
        "    n= len(xi)\n",
        "    Q= [[0] * n for _ in range(n)] #crear tabla para calcular los polinomios\n",
        "    for i in range(n):\n",
        "        Q[i][0] = fi[i] #agregar f(xi) original en la columna 1\n",
        "#se usa metodo de neville para hallar los polinomios\n",
        "    for i in range(1, n):\n",
        "        for j in range(1, i + 1):\n",
        "            Q[i][j]=((x - xi[i - j]) * Q[i][j - 1] - (x - xi[i]) * Q[i - 1][j - 1]) / (xi[i] - xi[i - j]) #polinomio interpolante de neville\n",
        "    for i in range(n):\n",
        "        for j in range(i + 1):\n",
        "            Q[i][j] = round(Q[i][j], 7) #número de decimales para interpolar\n",
        "#último valor que evaluaremos para encontrar Q(x)\n",
        "    return Q[n - 1][n - 1], Q\n",
        "  #datos de la tabla\n",
        "xi= [1.0, 1.3, 1.6, 1.9, 2.2]\n",
        "fi= [0.7651977, 0.6200860, 0.4554022, 0.2818186, 0.1103623]\n",
        "x= 1.5 #valor a aproximar\n",
        "P, Q= neville(x, xi, fi) #reenombramos el polinomio que pasa por los puntos y Q que es la aproximación\n",
        "print(f\"El valor aproximado es P({x}) = {P}\") #imprime resultados\n",
        "print(\"Tabla de neville:\")#imprime resultados\n",
        "for fila in Q:\n",
        "    print([round(val, 7) if val != 0 else 0 for val in fila])"
      ]
    }
  ]
}