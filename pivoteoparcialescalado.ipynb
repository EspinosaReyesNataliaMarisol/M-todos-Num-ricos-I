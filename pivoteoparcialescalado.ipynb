{
  "nbformat": 4,
  "nbformat_minor": 0,
  "metadata": {
    "colab": {
      "provenance": [],
      "authorship_tag": "ABX9TyNj0AhrDFyiV6Y+uwW8otAH",
      "include_colab_link": true
    },
    "kernelspec": {
      "name": "python3",
      "display_name": "Python 3"
    },
    "language_info": {
      "name": "python"
    }
  },
  "cells": [
    {
      "cell_type": "markdown",
      "metadata": {
        "id": "view-in-github",
        "colab_type": "text"
      },
      "source": [
        "<a href=\"https://colab.research.google.com/github/EspinosaReyesNataliaMarisol/M-todos-Num-ricos-I/blob/main/pivoteoparcialescalado.ipynb\" target=\"_parent\"><img src=\"https://colab.research.google.com/assets/colab-badge.svg\" alt=\"Open In Colab\"/></a>"
      ]
    },
    {
      "cell_type": "markdown",
      "source": [
        "#PIVOTEO PARCIAL ESCALADO\n",
        "\n",
        "##ALUMNA: ESPINOSA REYES NATALIA MARISOL"
      ],
      "metadata": {
        "id": "gQ6aX-caiTRe"
      }
    },
    {
      "cell_type": "code",
      "execution_count": 4,
      "metadata": {
        "colab": {
          "base_uri": "https://localhost:8080/"
        },
        "id": "A27ZFjPdhS1z",
        "outputId": "1d2df66b-1f01-41f1-ba9d-fab7d3935985"
      },
      "outputs": [
        {
          "output_type": "stream",
          "name": "stdout",
          "text": [
            "Solución del sistema: [-0.42800441  0.42690323  5.11438861]\n"
          ]
        }
      ],
      "source": [
        "import numpy as np #herramienta para trabajar con arreglos y operaciones matemáticas\n",
        "\n",
        "def p_e(A, b): #función pivoteo parcial escalonado\n",
        "    n = len(A) #dimensiones de las matrices\n",
        "    A = A.astype(float) #calcula dim\n",
        "    b = b.astype(float)#calcula dim\n",
        "\n",
        "\n",
        "    s = np.max(np.abs(A), axis=1)   # revisar el índice de renglones\n",
        "    if np.any(s == 0):\n",
        "        raise ValueError(\"No existe solución única (factor de escala s = 0).\") #Verifica si algún factor de escala es cero, lo que indicaría una fila nula en A\n",
        "\n",
        "\n",
        "    NROW = np.arange(n) #Crea un arreglo NROW que contiene los índices de las filas de\n",
        "#A. Esto permite manejar el intercambio de filas sin modificar la matriz directamente.\n",
        "\n",
        "\n",
        "    for i in range(n - 1): #elininación\n",
        "        ratios = np.abs(A[NROW[i:], i]) / s[NROW[i:]]   #determinar el pivote\n",
        "        p = i + np.argmax(ratios)\n",
        "\n",
        "\n",
        "        if i != p: #intercambiar renglones\n",
        "            NROW[i], NROW[p] = NROW[p], NROW[i]\n",
        "\n",
        "\n",
        "        for j in range(i + 1, n): #practicar eliminación gausseana\n",
        "            m = A[NROW[j], i] / A[NROW[i], i]\n",
        "            A[NROW[j], i:] -= m * A[NROW[i], i:]\n",
        "            b[NROW[j]] -= m * b[NROW[i]]\n",
        "\n",
        "    x = np.zeros(n) #practicar sustitución hacia atrás\n",
        "    for i in range(n - 1, -1, -1):\n",
        "        x[i] = (b[NROW[i]] - np.dot(A[NROW[i], i + 1:], x[i + 1:])) / A[NROW[i], i]\n",
        "\n",
        "    return x\n",
        "\n",
        "\n",
        "if __name__ == \"__main__\": #para el ejemplo 3:\n",
        "  #matriz de coef.\n",
        "    A = np.array([\n",
        "        [2.11, -4.21, 0.921],\n",
        "        [4.01, 10.2, -1.12],\n",
        "        [1.09, 0.987, 0.832]])\n",
        "\n",
        "\n",
        "    b = np.array([2.01, -3.09, 4.21]) #arreglo terminos independientes\n",
        "\n",
        "    # Resolver el sistema\n",
        "    m = p_e(A, b)  # llama la función p_e\n",
        "\n",
        "    print(\"Solución del sistema:\", m)\n"
      ]
    }
  ]
}