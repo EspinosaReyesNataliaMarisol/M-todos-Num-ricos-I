{
  "nbformat": 4,
  "nbformat_minor": 0,
  "metadata": {
    "colab": {
      "provenance": [],
      "authorship_tag": "ABX9TyONpS57BmeATHVCV7/70X9q",
      "include_colab_link": true
    },
    "kernelspec": {
      "name": "python3",
      "display_name": "Python 3"
    },
    "language_info": {
      "name": "python"
    }
  },
  "cells": [
    {
      "cell_type": "markdown",
      "metadata": {
        "id": "view-in-github",
        "colab_type": "text"
      },
      "source": [
        "<a href=\"https://colab.research.google.com/github/EspinosaReyesNataliaMarisol/M-todos-Num-ricos-I/blob/main/metododemuller1.ipynb\" target=\"_parent\"><img src=\"https://colab.research.google.com/assets/colab-badge.svg\" alt=\"Open In Colab\"/></a>"
      ]
    },
    {
      "cell_type": "markdown",
      "source": [
        "#METODO DE MULLER\n",
        "##ALUMNA: ESPINOSA REYES NATALIA MARISOL"
      ],
      "metadata": {
        "id": "ar2jyAopitQF"
      }
    },
    {
      "cell_type": "code",
      "execution_count": 12,
      "metadata": {
        "id": "CG6PlNjbiCwb"
      },
      "outputs": [],
      "source": [
        "from math import *     #Esto importa todas las funciones y constantes de la biblioteca math\n",
        "import numpy as np     #se importa la biblioteca numpy para la manipulación de vectores y operaciones matemáticas en Python.\n",
        "import matplotlib.pyplot as plt    #se utiliza para crear gráficos y visualizaciones.\n",
        "\n"
      ]
    },
    {
      "cell_type": "code",
      "source": [
        "def f(x): # el polinomio original\n",
        "    return (x**4) - 3*(x**3) + (x*2) + x +1\n",
        "\n"
      ],
      "metadata": {
        "id": "jQYXMn_5i6jl"
      },
      "execution_count": 13,
      "outputs": []
    },
    {
      "cell_type": "markdown",
      "source": [],
      "metadata": {
        "id": "jQZK1--IkB-C"
      }
    },
    {
      "cell_type": "code",
      "source": [
        "#grafica para f(x)\n",
        "x=np.linspace(-10,10,400)\n",
        "plt.plot(x, f(x)) #graficar f(x)\n",
        "plt.title(\"Grafica de f(x) con metodo de muller\") #titulo\n",
        "plt.grid(color='pink') #graficar cuadricula\n",
        "plt.xlabel(\"eje x\")\n",
        "plt.ylabel(\"eje y\")\n",
        "plt.xlim(-2, 4)\n",
        "plt.ylim(-2, 4)\n",
        "plt.axhline(0, color=\"black\") #mostrar eje x\n",
        "plt.axvline(0, color=\"black\") #mostrar eje y\n",
        "plt.show()#mostrar grafica\n",
        "\n",
        "\n"
      ],
      "metadata": {
        "colab": {
          "base_uri": "https://localhost:8080/",
          "height": 472
        },
        "id": "NAGLK39Qjd61",
        "outputId": "93eeaab3-7430-48f4-84f6-c7ec288b9b05"
      },
      "execution_count": 14,
      "outputs": [
        {
          "output_type": "display_data",
          "data": {
            "text/plain": [
              "<Figure size 640x480 with 1 Axes>"
            ],
            "image/png": "[encoded data removed]"
          },
          "metadata": {}
        }
      ]
    },
    {
      "cell_type": "code",
      "source": [
        "#valores iniciales\n",
        "p_0=0.5\n",
        "p_1=-0.5\n",
        "p_2=0\n",
        "tol=10**(-5)\n",
        "nmax=100  # Número máximo de iteraciones\n",
        "niter=3"
      ],
      "metadata": {
        "id": "WkRSyMoxmIRB"
      },
      "execution_count": 15,
      "outputs": []
    },
    {
      "cell_type": "code",
      "source": [
        "# Método de Müller\n",
        "# Imprime el encabezado para la tabla de iteraciones\n",
        "print(\"# iter\\t\\t p_1 \\t\\t f(p_1) \\t\\t error\")\n",
        "\n",
        "# Inicialización de las variables\n",
        "h_1 = p_1 - p_0\n",
        "h_2 = p_2 - p_1\n",
        "w_1 = (f(p_1) - f(p_0)) / h_1\n",
        "w_2 = (f(p_2) - f(p_1)) / h_2\n",
        "d = (w_2 - w_1) / (h_2 + h_1)\n",
        "\n",
        "# Ciclo iterativo para aplicar el método\n",
        "while niter < nmax and error_relativo > tol:  # número de iteraciones no supere el máximo permitido\n",
        "    w_2+(h_2*d)\n",
        "    b = w_2 + h_2 * d\n",
        "    # Corregido el cálculo de la raíz cuadrada (el exponente debe ser 0.5)\n",
        "    D = (pow(b,2) - 4 * f(p_2) * d) ** 0.5\n",
        "\n",
        "    # Se selecciona la E con menor magnitud para evitar la cancelación numérica\n",
        "    if abs(b - D) < abs(b + D):\n",
        "        E = b + D\n",
        "    else:\n",
        "        E = b - D\n",
        "\n",
        "    # Calcula el valor de h y la nueva aproximación p\n",
        "    h = -2 * f(p_2) / E\n",
        "    p = p_2 + h\n",
        "\n",
        "    # Verifica la convergencia con el criterio de tolerancia\n",
        "    if abs(h) < tol:\n",
        "        print(\"{0}\\t\\t {1:6.6f} \\t {2:6.6f} \\t {3:6.6f}\".format(niter + 1, p, f(p), abs(h)))\n",
        "        print(\"El procedimiento fue exitoso.\")\n",
        "        print(f\"La raíz resultante es: {p:.10f}\")\n",
        "        break\n",
        "\n",
        "    # Actualiza los valores para la siguiente iteración\n",
        "    p_0 = p_1\n",
        "    p_1 = p_2\n",
        "    p_2 = p\n",
        "    h_1 = p_1 - p_0\n",
        "    h_2 = p_2 - p_1\n",
        "    w_1 = (f(p_1) - f(p_0)) / h_1\n",
        "    w_2 = (f(p_2) - f(p_1)) / h_2\n",
        "    d = (w_2 - w_1) / (h_2 + h_1)\n",
        "\n",
        "    # Calcula el error relativo\n",
        "    error_relativo = abs(h) / abs(p_2)\n",
        "\n",
        "    # Imprime los valores de la iteración actual\n",
        "    print(\"{0}\\t\\t {1:6.6f} \\t {2:6.6f} \\t {3:6.6f}\".format(niter, p, f(p), error_relativo))\n",
        "\n",
        "    # Incrementa el número de iteraciones\n",
        "    niter += 1\n",
        "\n",
        "# Si el ciclo termina sin convergencia, se informa al usuario\n",
        "if abs(h) >= tol:\n",
        "    print(\"El procedimiento no fue exitoso.\")\n",
        "    print(f\"La raíz resultante es: {p_1:.10f}\")"
      ],
      "metadata": {
        "colab": {
          "base_uri": "https://localhost:8080/"
        },
        "id": "6oO943uImYO6",
        "outputId": "623bd7e4-e7f8-4dbe-c5c0-4406c5e2e789"
      },
      "execution_count": 16,
      "outputs": [
        {
          "output_type": "stream",
          "name": "stdout",
          "text": [
            "# iter\t\t p_1 \t\t f(p_1) \t\t error\n",
            "3\t\t -0.468871 \t -0.049054 \t 1.000000\n",
            "4\t\t -0.405444 \t 0.010637 \t 0.156438\n",
            "5\t\t -0.414998 \t -0.000916 \t 0.023021\n",
            "6\t\t -0.414212 \t 0.000002 \t 0.001898\n",
            "8\t\t -0.414214 \t -0.000000 \t 0.000002\n",
            "El procedimiento fue exitoso.\n",
            "La raíz resultante es: -0.4142135624\n"
          ]
        }
      ]
    }
  ]
}