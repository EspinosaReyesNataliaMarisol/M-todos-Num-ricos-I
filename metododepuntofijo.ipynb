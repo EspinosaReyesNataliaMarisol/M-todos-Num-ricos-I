{
  "nbformat": 4,
  "nbformat_minor": 0,
  "metadata": {
    "colab": {
      "provenance": [],
      "authorship_tag": "ABX9TyO300OyWNhutmb6ixYYUxrR",
      "include_colab_link": true
    },
    "kernelspec": {
      "name": "python3",
      "display_name": "Python 3"
    },
    "language_info": {
      "name": "python"
    }
  },
  "cells": [
    {
      "cell_type": "markdown",
      "metadata": {
        "id": "view-in-github",
        "colab_type": "text"
      },
      "source": [
        "<a href=\"https://colab.research.google.com/github/EspinosaReyesNataliaMarisol/M-todos-Num-ricos-I/blob/main/metododepuntofijo.ipynb\" target=\"_parent\"><img src=\"https://colab.research.google.com/assets/colab-badge.svg\" alt=\"Open In Colab\"/></a>"
      ]
    },
    {
      "cell_type": "markdown",
      "source": [
        "## MÉTODO DE PUNTO FIJO"
      ],
      "metadata": {
        "id": "g-wD4587czPB"
      }
    },
    {
      "cell_type": "code",
      "execution_count": null,
      "metadata": {
        "id": "qsQVGkNkcgy5"
      },
      "outputs": [],
      "source": [
        "from math import * #Esto importa todas las funciones y constantes de la biblioteca math\n",
        "import numpy as np #se importa la biblioteca numpy para la manipulación de vectores y operaciones matemáticas en Python.\n",
        "import matplotlib . pyplot as plt #se utiliza para crear gráficos y visualizaciones."
      ]
    },
    {
      "cell_type": "code",
      "source": [
        "# la función original es x^3-x-1=0\n",
        "#debido a que la función orginal se sale del intervalo [1,2], lo reescribimos de la forma: p=g(p)\n",
        "def g(x):\n",
        "    return (x+1)**(1/3)"
      ],
      "metadata": {
        "id": "aGD6R3z2dOW6"
      },
      "execution_count": null,
      "outputs": []
    },
    {
      "cell_type": "markdown",
      "source": [],
      "metadata": {
        "id": "YttlEZdAsbgB"
      }
    },
    {
      "cell_type": "code",
      "source": [
        "x=np.linspace(0,5,100)\n",
        "plt.plot(x,g(x))\n",
        "plt.axhline(0, color=\"black\")\n",
        "plt.axvline(0, color=\"black\")\n",
        "plt.show()"
      ],
      "metadata": {
        "colab": {
          "base_uri": "https://localhost:8080/",
          "height": 430
        },
        "id": "8S1nBCjVdhL1",
        "outputId": "7ab62f6e-d9de-4358-ec41-b3981df91f7e"
      },
      "execution_count": null,
      "outputs": [
        {
          "output_type": "display_data",
          "data": {
            "text/plain": [
              "<Figure size 640x480 with 1 Axes>"
            ],
            "image/png": "[encoded data removed]"
          },
          "metadata": {}
        }
      ]
    },
    {
      "cell_type": "code",
      "source": [
        "f1=g(1)\n",
        "f2=g(2)\n",
        "print(f1,f2)"
      ],
      "metadata": {
        "colab": {
          "base_uri": "https://localhost:8080/"
        },
        "id": "CSyN9RrHdq3I",
        "outputId": "9ae10c39-31cf-42ed-f442-7e27e460d244"
      },
      "execution_count": null,
      "outputs": [
        {
          "output_type": "stream",
          "name": "stdout",
          "text": [
            "1.2599210498948732 1.4422495703074083\n"
          ]
        }
      ]
    },
    {
      "cell_type": "code",
      "source": [
        "# Ingreso datos de entrada para el método a trabajar\n",
        "p0=1 #valor inicial de p y el valor mínimo del intervalo\n",
        "b=2 #valor máximo del intervalo\n",
        "#guarda valores iniciales del error y del número de iteraciones\n",
        "tol = 0.01 #float(input(\"Ingrese el valor de la tolerancia: \"))\n",
        "nmax = 100 #float(input(\"Ingrese el número máximo de iteraciones: \"))\n",
        "error = 100 #float(input(\"Ingrese el valor del error: \"))\n",
        "niter = 0 #número inicial de iteraciones"
      ],
      "metadata": {
        "id": "WUAArEjCdrrd"
      },
      "execution_count": null,
      "outputs": []
    },
    {
      "cell_type": "code",
      "source": [
        "# Método de punto fijo\n",
        "\n",
        "print(\"# iter\\t\\t p\\t\\t f(p)\\t\\t  error\") #imprime encabezados de la tabla de iteraciones\n",
        "\n",
        "# ciclo iterativo\n",
        "while error > tol and niter < nmax: # El ciclo se ejecuta mientras el error sea mayor que un valor de tolerancia\n",
        "\n",
        "    p = g(p0)#Evalúa la función g en el punto inicial p0\n",
        "\n",
        "    error = abs(p - p0) #Calcula el error como la diferencia entre el nuevo valor p y el anterior p0 en valor absoluto\n",
        "\n",
        "    # Imprimir los resultados en cada iteración\n",
        "    print(\"{0} \\t\\t {1:6.6f} \\t {2:6.6f} \\t {3:6.6f}\".format(niter, p0, p, error))\n",
        "\n",
        "    # el tomar el nuevo valor p y aumenta el contador de iteraciones.\n",
        "    p0 = p\n",
        "    niter += 1\n",
        "#imprime el resultado final, mostrando la solución aproximada p y el error.\n",
        "print(\"La solución exacta utilizando el método de punto fijo en el intervalo [1,2] es p = {0:6.6f} con un error de {1:6.6f}\".format(p0, error))"
      ],
      "metadata": {
        "colab": {
          "base_uri": "https://localhost:8080/"
        },
        "id": "ISdyB1_OdwP7",
        "outputId": "4bdaa3c4-1ef7-43cb-bc41-da4af8bace5d"
      },
      "execution_count": null,
      "outputs": [
        {
          "output_type": "stream",
          "name": "stdout",
          "text": [
            "# iter\t\t p\t\t f(p)\t\t  error\n",
            "0 \t\t 1.000000 \t 1.259921 \t 0.259921\n",
            "1 \t\t 1.259921 \t 1.312294 \t 0.052373\n",
            "2 \t\t 1.312294 \t 1.322354 \t 0.010060\n",
            "3 \t\t 1.322354 \t 1.324269 \t 0.001915\n",
            "La solución exacta utilizando el método de punto fijo en el intervalo [1,2] es p = 1.324269 con un error de 0.001915\n"
          ]
        }
      ]
    }
  ]
}