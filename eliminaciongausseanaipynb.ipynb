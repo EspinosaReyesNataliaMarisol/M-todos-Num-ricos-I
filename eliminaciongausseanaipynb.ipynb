{
  "nbformat": 4,
  "nbformat_minor": 0,
  "metadata": {
    "colab": {
      "provenance": [],
      "authorship_tag": "ABX9TyMo0IvYOUav0ZFoT8zOLeQH",
      "include_colab_link": true
    },
    "kernelspec": {
      "name": "python3",
      "display_name": "Python 3"
    },
    "language_info": {
      "name": "python"
    }
  },
  "cells": [
    {
      "cell_type": "markdown",
      "metadata": {
        "id": "view-in-github",
        "colab_type": "text"
      },
      "source": [
        "<a href=\"https://colab.research.google.com/github/EspinosaReyesNataliaMarisol/M-todos-Num-ricos-I/blob/main/eliminaciongausseanaipynb.ipynb\" target=\"_parent\"><img src=\"https://colab.research.google.com/assets/colab-badge.svg\" alt=\"Open In Colab\"/></a>"
      ]
    },
    {
      "cell_type": "markdown",
      "source": [
        "#ELIMINACIÓN GAUSSEANA\n",
        "##ALUMNA: ESPINOSA REYES NATALIA MARISOL"
      ],
      "metadata": {
        "id": "CU4kr4aOmyii"
      }
    },
    {
      "cell_type": "code",
      "execution_count": 2,
      "metadata": {
        "colab": {
          "base_uri": "https://localhost:8080/"
        },
        "id": "XO_HlTMymuPp",
        "outputId": "0f9b40bb-a30f-45fc-df29-9408d462b635"
      },
      "outputs": [
        {
          "output_type": "stream",
          "name": "stdout",
          "text": [
            "x1 = -7.0000\n",
            "x2 = 3.0000\n",
            "x3 = 2.0000\n",
            "x4 = 2.0000\n"
          ]
        }
      ],
      "source": [
        "import numpy as np #facilita operaciones con matrices y vectores\n",
        "\n",
        "def gauss(A, b): #resuelve el sistema lineal con eliminacion gausseana\n",
        "\n",
        "    n = len(b) # Combinar A y b en una matriz aumentada\n",
        "    augmented_matrix = np.hstack((A, b.reshape(-1, 1)))\n",
        "\n",
        "    for i in range(n): # Proceso de eliminación\n",
        "        pivot_row = np.argmax(abs(augmented_matrix[i:n, i])) + i # Encontrar pivote\n",
        "        if augmented_matrix[pivot_row, i] == 0:\n",
        "            return \"El sistema no tiene solución única\"\n",
        "\n",
        "        if pivot_row != i:  # Intercambia filas\n",
        "            augmented_matrix[[i, pivot_row]] = augmented_matrix[[pivot_row, i]]\n",
        "\n",
        "        for j in range(i + 1, n):  # Escalonar las filas\n",
        "            factor = augmented_matrix[j, i] / augmented_matrix[i, i]\n",
        "            augmented_matrix[j, i:] -= factor * augmented_matrix[i, i:]\n",
        "\n",
        "    x = np.zeros(n) # Sustitución hacia atrás\n",
        "    for i in range(n - 1, -1, -1):\n",
        "        if augmented_matrix[i, i] == 0:\n",
        "            return \"El sistema no tiene solución única\"\n",
        "        x[i] = (augmented_matrix[i, -1] - np.dot(augmented_matrix[i, i + 1:n], x[i + 1:n])) / augmented_matrix[i, i]\n",
        "\n",
        "    return x\n",
        "\n",
        "def print_solution(solution): #  imprimir los resultados\n",
        "    if isinstance(solution, str):\n",
        "        print(solution)\n",
        "    else:\n",
        "        for i, value in enumerate(solution, start=1):\n",
        "            print(f\"x{i} = {value:.4f}\")\n",
        "\n",
        "A = np.array([[1, -1, 2, -1], [2, -2, 3, -3], [1, 1, 1, 0], [1, -1, 4, 3]], dtype=float) #sea:\n",
        "b = np.array([-8, -20, -2, 4], dtype=float)\n",
        "resultado = gauss(A, b)\n",
        "print_solution(resultado)\n"
      ]
    }
  ]
}