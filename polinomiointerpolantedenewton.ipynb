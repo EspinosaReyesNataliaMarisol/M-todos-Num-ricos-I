{
  "nbformat": 4,
  "nbformat_minor": 0,
  "metadata": {
    "colab": {
      "provenance": [],
      "authorship_tag": "ABX9TyOXouCJO7M8JoqcGyPfLDDs",
      "include_colab_link": true
    },
    "kernelspec": {
      "name": "python3",
      "display_name": "Python 3"
    },
    "language_info": {
      "name": "python"
    }
  },
  "cells": [
    {
      "cell_type": "markdown",
      "metadata": {
        "id": "view-in-github",
        "colab_type": "text"
      },
      "source": [
        "<a href=\"https://colab.research.google.com/github/EspinosaReyesNataliaMarisol/M-todos-Num-ricos-I/blob/main/polinomiointerpolantedenewton.ipynb\" target=\"_parent\"><img src=\"https://colab.research.google.com/assets/colab-badge.svg\" alt=\"Open In Colab\"/></a>"
      ]
    },
    {
      "cell_type": "markdown",
      "source": [
        "Alumna: Espinosa Reyes Natalia Marisol"
      ],
      "metadata": {
        "id": "JIWQXLQ-dXaX"
      }
    },
    {
      "cell_type": "markdown",
      "source": [
        "Paso 1. Introducir datos"
      ],
      "metadata": {
        "id": "WMLyOqJalbVN"
      }
    },
    {
      "cell_type": "code",
      "execution_count": 69,
      "metadata": {
        "id": "5R6rAHaxcxZv"
      },
      "outputs": [],
      "source": [
        "import numpy as np #se importa la biblioteca numpy para la manipulación de vectores y operaciones matemáticas en Python.\n",
        "import matplotlib.pyplot as plt #se utiliza para crear gráficos y visualizaciones.\n"
      ]
    },
    {
      "cell_type": "code",
      "source": [
        "X= np. array([0, 1, 2, 3, 4, 5]) #datos de la columna de las x\n",
        "F= np.array([-5, 1, 9, 25, 55, 105]) #datos de la columna de las y=F(x)"
      ],
      "metadata": {
        "id": "kcsJUzoakipa"
      },
      "execution_count": 70,
      "outputs": []
    },
    {
      "cell_type": "code",
      "source": [
        "F #arreglo de la columna de las F"
      ],
      "metadata": {
        "colab": {
          "base_uri": "https://localhost:8080/"
        },
        "id": "YSo9S5rlk85T",
        "outputId": "343f2ac8-9ac2-4455-b491-b8a8f992f619"
      },
      "execution_count": 71,
      "outputs": [
        {
          "output_type": "execute_result",
          "data": {
            "text/plain": [
              "array([ -5,   1,   9,  25,  55, 105])"
            ]
          },
          "metadata": {},
          "execution_count": 71
        }
      ]
    },
    {
      "cell_type": "code",
      "source": [
        "type(F) #tipo de datos de una variable, objeto o valor. Devuelve el tipo de dato al que pertenece el valor o variable que le pasamos como argumento."
      ],
      "metadata": {
        "colab": {
          "base_uri": "https://localhost:8080/"
        },
        "id": "rQwsgLlzlABK",
        "outputId": "79b5324d-946d-4d10-a1a0-b7ed98649e5b"
      },
      "execution_count": 72,
      "outputs": [
        {
          "output_type": "execute_result",
          "data": {
            "text/plain": [
              "numpy.ndarray"
            ]
          },
          "metadata": {},
          "execution_count": 72
        }
      ]
    },
    {
      "cell_type": "markdown",
      "source": [
        "Paso 2. Graficar datos"
      ],
      "metadata": {
        "id": "UCUDp3Nolknv"
      }
    },
    {
      "cell_type": "code",
      "source": [
        "#Graficar los valores iniciales de x, F(x)\n",
        "plt.scatter(X, F, color=\"magenta\", marker='+') #graficar datos\n",
        "plt.title(\"Gráfica de los datos\") #titulo de grafica\n",
        "plt.xlabel(\"EJE X\") #etiquetas de los ejes\n",
        "plt.ylabel(\"EJE Y\") #etiquetas de los ejes\n",
        "plt.grid(color=\"grey\", linestyle='-') #activar cuadricula\n",
        "plt.show() #mostrar grafica"
      ],
      "metadata": {
        "colab": {
          "base_uri": "https://localhost:8080/",
          "height": 472
        },
        "id": "6fvBqyGAlorp",
        "outputId": "fb37ecd6-e9a8-4db8-be79-ed1faaa7dbcc"
      },
      "execution_count": 73,
      "outputs": [
        {
          "output_type": "display_data",
          "data": {
            "text/plain": [
              "<Figure size 640x480 with 1 Axes>"
            ],
            "image/png": "[encoded data removed]"
          },
          "metadata": {}
        }
      ]
    },
    {
      "cell_type": "markdown",
      "source": [
        "Paso 3. Tabla de primeras dif, construccion de deltay"
      ],
      "metadata": {
        "id": "JpFtElAlnJFv"
      }
    },
    {
      "cell_type": "code",
      "source": [
        "dif=F[1]-F[0] #ejemplo de como calcular la diferencia de F1 y F0 para delta\n",
        "print(dif) #imprimir el resultado\n"
      ],
      "metadata": {
        "colab": {
          "base_uri": "https://localhost:8080/"
        },
        "id": "90Wx49MXnRWF",
        "outputId": "4b73870b-32e9-423d-f5cc-d8faf73cad03"
      },
      "execution_count": 74,
      "outputs": [
        {
          "output_type": "stream",
          "name": "stdout",
          "text": [
            "6\n"
          ]
        }
      ]
    },
    {
      "cell_type": "code",
      "source": [
        "delta1=np.array([]) #calcular las primeras diferencias\n",
        "for i in range(len(F)-1):\n",
        "    dif=F[i+1]-F[i]\n",
        "    print(dif)\n",
        "    delta1=np.append(delta1, dif)\n",
        ""
      ],
      "metadata": {
        "colab": {
          "base_uri": "https://localhost:8080/"
        },
        "id": "pmTJqoi4nkhc",
        "outputId": "341cd5bd-37c3-46ce-9d3b-64658258cb63"
      },
      "execution_count": 75,
      "outputs": [
        {
          "output_type": "stream",
          "name": "stdout",
          "text": [
            "6\n",
            "8\n",
            "16\n",
            "30\n",
            "50\n"
          ]
        }
      ]
    },
    {
      "cell_type": "code",
      "source": [
        "delta2=np.array([]) #calcular las segundas diferencias\n",
        "for i in range(len(delta1)-1):\n",
        "    dif=delta1[i+1]-delta1[i]\n",
        "    print(dif)\n",
        "    delta2=np.append(delta2, dif)"
      ],
      "metadata": {
        "colab": {
          "base_uri": "https://localhost:8080/"
        },
        "id": "raTRWgEgpAJY",
        "outputId": "81d86126-26dc-4c8c-c27e-678ce8ae5a62"
      },
      "execution_count": 76,
      "outputs": [
        {
          "output_type": "stream",
          "name": "stdout",
          "text": [
            "2.0\n",
            "8.0\n",
            "14.0\n",
            "20.0\n"
          ]
        }
      ]
    },
    {
      "cell_type": "code",
      "source": [
        "delta3=np.array([]) #calcular las terceras diferencias y últimas, pues la función  es de grado 3 y ya son constantes\n",
        "for i in range(len(delta2)-1):\n",
        "    dif=delta2[i+1]-delta2[i]\n",
        "    print(dif)\n",
        "    delta3=np.append(delta3, dif)"
      ],
      "metadata": {
        "colab": {
          "base_uri": "https://localhost:8080/"
        },
        "id": "sJwYjkPXqEUj",
        "outputId": "6bc51124-f69b-4e11-a114-a2758aad8cad"
      },
      "execution_count": 77,
      "outputs": [
        {
          "output_type": "stream",
          "name": "stdout",
          "text": [
            "6.0\n",
            "6.0\n",
            "6.0\n"
          ]
        }
      ]
    },
    {
      "cell_type": "code",
      "source": [
        "#se calculo antes la función y debe cumplirse para cualquie valor x siempre que respete que va de 1 en 1\n",
        "def f(x):\n",
        "    return x**3-2*x**2+7*x-5"
      ],
      "metadata": {
        "id": "Wn7OktWsrdQD"
      },
      "execution_count": 78,
      "outputs": []
    },
    {
      "cell_type": "markdown",
      "source": [
        "Ingresar el valor X que se desea calcular F"
      ],
      "metadata": {
        "id": "SK2xeZcwt5QK"
      }
    },
    {
      "cell_type": "code",
      "source": [
        "new_X= float(input(\"Ingrese el nuevo valor de X para calcular F, siempre y cuando tenga paso de 1 entre cada X:\"))"
      ],
      "metadata": {
        "colab": {
          "base_uri": "https://localhost:8080/"
        },
        "id": "gcQJK_GyrrBm",
        "outputId": "9324d6ce-734b-4ef6-886c-5edec4641ede"
      },
      "execution_count": 79,
      "outputs": [
        {
          "name": "stdout",
          "output_type": "stream",
          "text": [
            "Ingrese el nuevo valor de X para calcular F, siempre y cuando tenga paso de 1 entre cada X:6\n"
          ]
        }
      ]
    },
    {
      "cell_type": "code",
      "source": [
        "new_F= f(new_X)\n",
        "print(\"El valor y=F(x) para el nuevo X es:\")\n",
        "print(new_F)"
      ],
      "metadata": {
        "colab": {
          "base_uri": "https://localhost:8080/"
        },
        "id": "VB8mR_MHtg29",
        "outputId": "4939bac2-fa4e-4792-db9f-696666bdc0be"
      },
      "execution_count": 80,
      "outputs": [
        {
          "output_type": "stream",
          "name": "stdout",
          "text": [
            "El valor y=F(x) para el nuevo X es:\n",
            "181.0\n"
          ]
        }
      ]
    },
    {
      "cell_type": "markdown",
      "source": [
        "Graficar la función y el nuevo y=Fx"
      ],
      "metadata": {
        "id": "FnOi9P6Zwivm"
      }
    },
    {
      "cell_type": "code",
      "source": [
        "x= np.linspace(-5,5,100)\n",
        "plt.scatter(x, f(x), color=\"magenta\", marker='+', label=\"f(x)\", )\n",
        "plt.scatter(new_X, new_F, color=\"blue\", marker=\"*\", label=\"f(new_X)\")\n",
        "plt.title(\"Gráfica de f(x) y el nuevo y=F(x)\")\n",
        "plt.xlabel(\"EJEX\")\n",
        "plt.ylabel(\"EJEY\")\n",
        "plt.grid(color=\"grey\", linestyle='-')\n",
        "plt.show"
      ],
      "metadata": {
        "colab": {
          "base_uri": "https://localhost:8080/",
          "height": 641
        },
        "id": "lgxRp6VAvHdC",
        "outputId": "6b24fdcf-9b91-4d89-dc1a-5189466e6bd3"
      },
      "execution_count": 81,
      "outputs": [
        {
          "output_type": "execute_result",
          "data": {
            "text/plain": [
              "<function matplotlib.pyplot.show(close=None, block=None)>"
            ],
            "text/html": [
              "<div style=\"max-width:800px; border: 1px solid var(--colab-border-color);\"><style>\n",
              "      pre.function-repr-contents {\n",
              "        overflow-x: auto;\n",
              "        padding: 8px 12px;\n",
              "        max-height: 500px;\n",
              "      }\n",
              "\n",
              "      pre.function-repr-contents.function-repr-contents-collapsed {\n",
              "        cursor: pointer;\n",
              "        max-height: 100px;\n",
              "      }\n",
              "    </style>\n",
              "    <pre style=\"white-space: initial; background:\n",
              "         var(--colab-secondary-surface-color); padding: 8px 12px;\n",
              "         border-bottom: 1px solid var(--colab-border-color);\"><b>matplotlib.pyplot.show</b><br/>def show(*args, **kwargs)</pre><pre class=\"function-repr-contents function-repr-contents-collapsed\" style=\"\"><a class=\"filepath\" style=\"display:none\" href=\"#\">/usr/local/lib/python3.10/dist-packages/matplotlib/pyplot.py</a>Display all open figures.\n",
              "\n",
              "Parameters\n",
              "----------\n",
              "block : bool, optional\n",
              "    Whether to wait for all figures to be closed before returning.\n",
              "\n",
              "    If `True` block and run the GUI main loop until all figure windows\n",
              "    are closed.\n",
              "\n",
              "    If `False` ensure that all figure windows are displayed and return\n",
              "    immediately.  In this case, you are responsible for ensuring\n",
              "    that the event loop is running to have responsive figures.\n",
              "\n",
              "    Defaults to True in non-interactive mode and to False in interactive\n",
              "    mode (see `.pyplot.isinteractive`).\n",
              "\n",
              "See Also\n",
              "--------\n",
              "ion : Enable interactive mode, which shows / updates the figure after\n",
              "      every plotting command, so that calling ``show()`` is not necessary.\n",
              "ioff : Disable interactive mode.\n",
              "savefig : Save the figure to an image file instead of showing it on screen.\n",
              "\n",
              "Notes\n",
              "-----\n",
              "**Saving figures to file and showing a window at the same time**\n",
              "\n",
              "If you want an image file as well as a user interface window, use\n",
              "`.pyplot.savefig` before `.pyplot.show`. At the end of (a blocking)\n",
              "``show()`` the figure is closed and thus unregistered from pyplot. Calling\n",
              "`.pyplot.savefig` afterwards would save a new and thus empty figure. This\n",
              "limitation of command order does not apply if the show is non-blocking or\n",
              "if you keep a reference to the figure and use `.Figure.savefig`.\n",
              "\n",
              "**Auto-show in jupyter notebooks**\n",
              "\n",
              "The jupyter backends (activated via ``%matplotlib inline``,\n",
              "``%matplotlib notebook``, or ``%matplotlib widget``), call ``show()`` at\n",
              "the end of every cell by default. Thus, you usually don&#x27;t have to call it\n",
              "explicitly there.</pre>\n",
              "      <script>\n",
              "      if (google.colab.kernel.accessAllowed && google.colab.files && google.colab.files.view) {\n",
              "        for (const element of document.querySelectorAll('.filepath')) {\n",
              "          element.style.display = 'block'\n",
              "          element.onclick = (event) => {\n",
              "            event.preventDefault();\n",
              "            event.stopPropagation();\n",
              "            google.colab.files.view(element.textContent, 482);\n",
              "          };\n",
              "        }\n",
              "      }\n",
              "      for (const element of document.querySelectorAll('.function-repr-contents')) {\n",
              "        element.onclick = (event) => {\n",
              "          event.preventDefault();\n",
              "          event.stopPropagation();\n",
              "          element.classList.toggle('function-repr-contents-collapsed');\n",
              "        };\n",
              "      }\n",
              "      </script>\n",
              "      </div>"
            ]
          },
          "metadata": {},
          "execution_count": 81
        },
        {
          "output_type": "display_data",
          "data": {
            "text/plain": [
              "<Figure size 640x480 with 1 Axes>"
            ],
            "image/png": "[encoded data removed]"
          },
          "metadata": {}
        }
      ]
    }
  ]
}