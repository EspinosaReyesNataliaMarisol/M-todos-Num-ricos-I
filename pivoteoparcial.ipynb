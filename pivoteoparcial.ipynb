{
  "nbformat": 4,
  "nbformat_minor": 0,
  "metadata": {
    "colab": {
      "provenance": [],
      "authorship_tag": "ABX9TyM7KKPwu9jtuUqIsH5I6aEv",
      "include_colab_link": true
    },
    "kernelspec": {
      "name": "python3",
      "display_name": "Python 3"
    },
    "language_info": {
      "name": "python"
    }
  },
  "cells": [
    {
      "cell_type": "markdown",
      "metadata": {
        "id": "view-in-github",
        "colab_type": "text"
      },
      "source": [
        "<a href=\"https://colab.research.google.com/github/EspinosaReyesNataliaMarisol/M-todos-Num-ricos-I/blob/main/pivoteoparcial.ipynb\" target=\"_parent\"><img src=\"https://colab.research.google.com/assets/colab-badge.svg\" alt=\"Open In Colab\"/></a>"
      ]
    },
    {
      "cell_type": "markdown",
      "source": [
        "#PIVOTEO PARCIAL  \n",
        "##ALUMNA: ESPINOSA REYES NATALIA MARISOL"
      ],
      "metadata": {
        "id": "MzWKDDuXrwvw"
      }
    },
    {
      "cell_type": "code",
      "execution_count": 1,
      "metadata": {
        "colab": {
          "base_uri": "https://localhost:8080/"
        },
        "id": "9xA4rFSCruUa",
        "outputId": "d206dfa4-817d-4a6a-c75f-f037fb79e14a"
      },
      "outputs": [
        {
          "output_type": "stream",
          "name": "stdout",
          "text": [
            "Matriz Aumentada Inicial:\n",
            "[[ 3.000e-03  5.914e+01  5.917e+01]\n",
            " [ 5.291e+00 -6.130e+00  4.678e+01]]\n",
            "\n",
            "Matriz después de la eliminación en la columna 1:\n",
            "[[ 5.291      -6.13       46.78      ]\n",
            " [ 0.         59.14347571 59.14347571]]\n",
            "\n",
            "Matriz después de la eliminación en la columna 2:\n",
            "[[ 5.291      -6.13       46.78      ]\n",
            " [ 0.         59.14347571 59.14347571]]\n",
            "\n",
            "Matriz reducida:\n",
            "[[ 5.291      -6.13       46.78      ]\n",
            " [ 0.         59.14347571 59.14347571]]\n",
            "\n",
            "Solución del sistema:\n",
            "x1 = 10.000000\n",
            "x2 = 1.000000\n"
          ]
        }
      ],
      "source": [
        "import numpy as np #manipular matrices y realizar cálculos numéricos\n",
        "\n",
        "def pivparcial(A): #Define la función pivparcial, que toma como entrada una matriz aumentada\n",
        "\n",
        "    n = A.shape[0]  # Número de filas de la matriz\n",
        "\n",
        "    print(\"Matriz Aumentada Inicial:\")\n",
        "    print(A)\n",
        "\n",
        "\n",
        "    for i in range(n): # Proceso de Eliminación Gaussiana con Pivoteo Parcial\n",
        "        # Encontrar el mayor pivote absoluto en la columna actual\n",
        "        max_row_index = np.argmax(abs(A[i:, i])) + i\n",
        "        if A[max_row_index, i] == 0:\n",
        "            raise ValueError(\"El sistema no tiene solución única (pivote nulo encontrado).\")\n",
        "\n",
        "        if i != max_row_index: #Intercambiar la fila actual con la fila del mayor pivote\n",
        "            A[[i, max_row_index]] = A[[max_row_index, i]]\n",
        "\n",
        "        for j in range(i + 1, n): # Eliminar los elementos debajo del pivote\n",
        "            factor = A[j, i] / A[i, i]\n",
        "            A[j, i:] = A[j, i:] - factor * A[i, i:]\n",
        "\n",
        "        print(f\"\\nMatriz después de la eliminación en la columna {i + 1}:\")  # Imprimir la matriz después de la eliminación de cada columna\n",
        "        print(A)\n",
        "\n",
        "\n",
        "    x = np.zeros(n)  # Sustitución hacia atrás\n",
        "    for i in range(n - 1, -1, -1):\n",
        "        x[i] = (A[i, -1] - np.dot(A[i, i + 1:n], x[i + 1:n])) / A[i, i]\n",
        "    print(\"\\nMatriz reducida:\") # Imprimir\n",
        "    print(A)\n",
        "\n",
        "    return x\n",
        "\n",
        "if __name__ == \"__main__\": #Define la matriz aumentada A, que combina los coeficientes del sistema y los términos independientes.\n",
        "    A = np.array([[0.003000, 59.14, 59.17],\n",
        "                  [5.291, -6.130, 46.78]], dtype=float)  # Definir la matriz aumentada del sistema\n",
        "    try:\n",
        "        solucion = pivparcial(A)\n",
        "        print(\"\\nSolución del sistema:\")\n",
        "        for i in range(len(solucion)):\n",
        "            print(f\"x{i+1} = {solucion[i]:.6f}\")\n",
        "    except ValueError as error:\n",
        "        print(error)"
      ]
    }
  ]
}