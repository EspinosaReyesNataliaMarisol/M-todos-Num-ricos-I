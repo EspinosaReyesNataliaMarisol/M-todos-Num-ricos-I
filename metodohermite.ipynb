{
  "nbformat": 4,
  "nbformat_minor": 0,
  "metadata": {
    "colab": {
      "provenance": [],
      "authorship_tag": "ABX9TyPrnnsLukWzyLo/ApoOHaE0",
      "include_colab_link": true
    },
    "kernelspec": {
      "name": "python3",
      "display_name": "Python 3"
    },
    "language_info": {
      "name": "python"
    }
  },
  "cells": [
    {
      "cell_type": "markdown",
      "metadata": {
        "id": "view-in-github",
        "colab_type": "text"
      },
      "source": [
        "<a href=\"https://colab.research.google.com/github/EspinosaReyesNataliaMarisol/M-todos-Num-ricos-I/blob/main/metodohermite.ipynb\" target=\"_parent\"><img src=\"https://colab.research.google.com/assets/colab-badge.svg\" alt=\"Open In Colab\"/></a>"
      ]
    },
    {
      "cell_type": "markdown",
      "source": [
        "#Método de Hermite\n",
        "##Alumna: Espinosa Reyes Natalia Marisol"
      ],
      "metadata": {
        "id": "LZxXTV0-fv6-"
      }
    },
    {
      "cell_type": "code",
      "execution_count": 5,
      "metadata": {
        "colab": {
          "base_uri": "https://localhost:8080/"
        },
        "id": "jEUl7LT0fr40",
        "outputId": "d4fded9e-2893-4a33-aeda-7318ce28c1ab"
      },
      "outputs": [
        {
          "output_type": "stream",
          "name": "stdout",
          "text": [
            "['zi', 'f(z)', 'D1', 'D2', 'D3', 'D4']\n",
            "[1.3, 0.620086, '', '', '', '']\n",
            "[1.3, 0.620086, -0.5220232, '', '', '']\n",
            "[1.6, 0.4554022, -0.548946, -0.0897427, '', '']\n",
            "[1.6, 0.4554022, -0.5698959, -0.069833, 0.0663656, '']\n",
            "[1.9, 0.2818186, -0.578612, -0.0290537, 0.0679656, 0.0026667]\n",
            "[1.9, 0.2818186, -0.5811571, -0.0084837, 0.0685667, 0.0010019, -0.0027747]\n",
            "H(x) = 0.5118277002320001\n",
            "El valor aproximado en H(1.5) = 0.5118277002320001\n"
          ]
        }
      ],
      "source": [
        "import numpy as np #libreria para trabajar con arreglos y tablas\n",
        "\n",
        "def hermite(x, xi, fi, fp):\n",
        "    n = len(xi)  # Número de nodos\n",
        "\n",
        "# Crear una tabla de diferencias divididas duplicados\n",
        "    tabla = np.zeros((2 * n, 2 * n))\n",
        "    z = np.zeros(2 * n)  # Vector que duplica nodos\n",
        "\n",
        "# Inicializar los valores de la tabla con f(xi) y f'(xi)\n",
        "    for i in range(n):\n",
        "        z[2 * i] = z[2 * i + 1] = xi[i]\n",
        "        tabla[2 * i][0] = tabla[2 * i + 1][0] = fi[i]\n",
        "        tabla[2 * i + 1][1] = fpi[i]\n",
        "        if i > 0:\n",
        "            tabla[2 * i][1] = (tabla[2 * i][0] - tabla[2 * i - 1][0]) / (z[2 * i] - z[2 * i - 1])\n",
        "\n",
        " # Llenar las diferencias divididas superiores\n",
        "    for i in range(2, 2 * n):\n",
        "        for j in range(2, i + 1):\n",
        "            tabla[i][j] = (tabla[i][j - 1] - tabla[i - 1][j - 1]) / (z[i] - z[i - j])\n",
        "\n",
        "# Redondear resultados\n",
        "    tabla = np.round(tabla, 7)\n",
        "\n",
        "# Obtener los coeficientes del polinomio\n",
        "    coeficientes = [tabla[i][i] for i in range(2 * n)]\n",
        "\n",
        "# Construir el polinomio de Hermite\n",
        "    polinomio = coeficientes[0]\n",
        "    for i in range(1, 2 * n):\n",
        "        termino = coeficientes[i]\n",
        "        for j in range(i):\n",
        "            termino *= (x- z[j])\n",
        "        polinomio += termino\n",
        "\n",
        "# Construir la tabla de resultados para mostrar\n",
        "    encabezados = [\"zi\", \"f(z)\", \"D1\", \"D2\", \"D3\", \"D4\"]\n",
        "    tabla_O = [encabezados]\n",
        "    for i in range(2 * n):\n",
        "        fila = [z[i], tabla[i][0]]\n",
        "        for j in range(1, i + 1):\n",
        "            fila.append(tabla[i][j])\n",
        "        while len(fila) < len(encabezados):\n",
        "            fila.append(\"\")\n",
        "        tabla_O.append(fila)\n",
        "\n",
        "# Evaluar el polinomio en el punto dado\n",
        "    x_aprox = coeficientes[0]\n",
        "    for i in range(1, 2 * n):\n",
        "        termino = coeficientes[i]\n",
        "        for j in range(i):\n",
        "            termino *= (x - z[j])\n",
        "        x_aprox += termino\n",
        "\n",
        "    return x_aprox, tabla, polinomio, z, tabla_O\n",
        "\n",
        "# Valores iniciales para la tabla de Hermite\n",
        "xi = [1.3, 1.6, 1.9]  # Nodos\n",
        "fi = [0.6200860, 0.4554022, 0.2818186]  # Valores de la función\n",
        "fp = [-0.5220232, -0.5698959, -0.5811571]  # Derivadas de la función\n",
        "x = 1.5  # Punto donde evaluar el polinomio\n",
        "# Llamar a la función\n",
        "x_aprox, tabla, polinomio, z, tabla_O = hermite(x, xi, fi, fpi)\n",
        "\n",
        "# Mostrar los resultados\n",
        "for fila in tabla_O:\n",
        "    print(fila)\n",
        "print(f\"H(x) = {polinomio}\")\n",
        "print(f\"El valor aproximado en H({x}) = {x_aprox}\")\n",
        "\n"
      ]
    }
  ]
}